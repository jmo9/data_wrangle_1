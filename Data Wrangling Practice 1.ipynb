{
 "cells": [
  {
   "cell_type": "code",
   "execution_count": 5,
   "id": "65b0aa3a",
   "metadata": {},
   "outputs": [],
   "source": [
    "import pandas as pd"
   ]
  },
  {
   "cell_type": "markdown",
   "id": "4e6b79e5",
   "metadata": {},
   "source": [
    "The following lines displays floats with two decimal places and expands the limits for the displayed number of rows and columns."
   ]
  },
  {
   "cell_type": "code",
   "execution_count": 3,
   "id": "9a63f1df",
   "metadata": {},
   "outputs": [],
   "source": [
    "pd.options.display.float_format = '{:,.2f}'.format\n",
    "pd.options.display.max_rows = 200\n",
    "pd.options.display.max_columns = 100"
   ]
  },
  {
   "cell_type": "markdown",
   "id": "ca8f1e32",
   "metadata": {},
   "source": [
    "Reading sample csv file (and setting the column names):"
   ]
  },
  {
   "cell_type": "code",
   "execution_count": 13,
   "id": "0b2f133a",
   "metadata": {},
   "outputs": [
    {
     "data": {
      "text/html": [
       "<div>\n",
       "<style scoped>\n",
       "    .dataframe tbody tr th:only-of-type {\n",
       "        vertical-align: middle;\n",
       "    }\n",
       "\n",
       "    .dataframe tbody tr th {\n",
       "        vertical-align: top;\n",
       "    }\n",
       "\n",
       "    .dataframe thead th {\n",
       "        text-align: right;\n",
       "    }\n",
       "</style>\n",
       "<table border=\"1\" class=\"dataframe\">\n",
       "  <thead>\n",
       "    <tr style=\"text-align: right;\">\n",
       "      <th></th>\n",
       "      <th>Code</th>\n",
       "      <th>Date</th>\n",
       "      <th>Open</th>\n",
       "      <th>High</th>\n",
       "      <th>Low</th>\n",
       "      <th>Close</th>\n",
       "      <th>Volume</th>\n",
       "      <th>VWAP</th>\n",
       "      <th>TWAP</th>\n",
       "    </tr>\n",
       "  </thead>\n",
       "  <tbody>\n",
       "    <tr>\n",
       "      <th>0</th>\n",
       "      <td>GWA_BTC</td>\n",
       "      <td>2014-04-01</td>\n",
       "      <td>467.28</td>\n",
       "      <td>488.62</td>\n",
       "      <td>467.28</td>\n",
       "      <td>479.56</td>\n",
       "      <td>74,776.48</td>\n",
       "      <td>482.76</td>\n",
       "      <td>482.82</td>\n",
       "    </tr>\n",
       "    <tr>\n",
       "      <th>1</th>\n",
       "      <td>GWA_BTC</td>\n",
       "      <td>2014-04-02</td>\n",
       "      <td>479.20</td>\n",
       "      <td>494.30</td>\n",
       "      <td>431.32</td>\n",
       "      <td>437.08</td>\n",
       "      <td>114,052.96</td>\n",
       "      <td>460.19</td>\n",
       "      <td>465.93</td>\n",
       "    </tr>\n",
       "    <tr>\n",
       "      <th>2</th>\n",
       "      <td>GWA_BTC</td>\n",
       "      <td>2014-04-03</td>\n",
       "      <td>437.33</td>\n",
       "      <td>449.74</td>\n",
       "      <td>414.41</td>\n",
       "      <td>445.60</td>\n",
       "      <td>91,415.08</td>\n",
       "      <td>432.29</td>\n",
       "      <td>433.28</td>\n",
       "    </tr>\n",
       "    <tr>\n",
       "      <th>3</th>\n",
       "      <td>GWA_BTC</td>\n",
       "      <td>2014-04-04</td>\n",
       "      <td>445.18</td>\n",
       "      <td>456.10</td>\n",
       "      <td>429.16</td>\n",
       "      <td>449.81</td>\n",
       "      <td>51,147.27</td>\n",
       "      <td>443.46</td>\n",
       "      <td>443.93</td>\n",
       "    </tr>\n",
       "    <tr>\n",
       "      <th>4</th>\n",
       "      <td>GWA_BTC</td>\n",
       "      <td>2014-04-05</td>\n",
       "      <td>450.08</td>\n",
       "      <td>464.09</td>\n",
       "      <td>445.16</td>\n",
       "      <td>461.70</td>\n",
       "      <td>28,449.19</td>\n",
       "      <td>452.53</td>\n",
       "      <td>452.95</td>\n",
       "    </tr>\n",
       "  </tbody>\n",
       "</table>\n",
       "</div>"
      ],
      "text/plain": [
       "      Code        Date   Open   High    Low  Close     Volume   VWAP   TWAP\n",
       "0  GWA_BTC  2014-04-01 467.28 488.62 467.28 479.56  74,776.48 482.76 482.82\n",
       "1  GWA_BTC  2014-04-02 479.20 494.30 431.32 437.08 114,052.96 460.19 465.93\n",
       "2  GWA_BTC  2014-04-03 437.33 449.74 414.41 445.60  91,415.08 432.29 433.28\n",
       "3  GWA_BTC  2014-04-04 445.18 456.10 429.16 449.81  51,147.27 443.46 443.93\n",
       "4  GWA_BTC  2014-04-05 450.08 464.09 445.16 461.70  28,449.19 452.53 452.95"
      ]
     },
     "execution_count": 13,
     "metadata": {},
     "output_type": "execute_result"
    }
   ],
   "source": [
    "df = pd.read_csv('BNC2_sample.csv',\n",
    "                names=['Code', 'Date', 'Open', 'High', 'Low',\n",
    "                      'Close', 'Volume', 'VWAP', 'TWAP'])\n",
    "df.head()"
   ]
  },
  {
   "cell_type": "markdown",
   "id": "6482b885",
   "metadata": {},
   "source": [
    "Inspecting for equivalency in granularity:"
   ]
  },
  {
   "cell_type": "code",
   "execution_count": 6,
   "id": "9732a4c9",
   "metadata": {},
   "outputs": [
    {
     "name": "stdout",
     "output_type": "stream",
     "text": [
      "['GWA_BTC' 'GWA_ETH' 'GWA_LTC' 'GWA_XLM' 'GWA_XRP' 'MWA_BTC_CNY'\n",
      " 'MWA_BTC_EUR' 'MWA_BTC_GBP' 'MWA_BTC_JPY' 'MWA_BTC_USD' 'MWA_ETH_CNY'\n",
      " 'MWA_ETH_EUR' 'MWA_ETH_GBP' 'MWA_ETH_JPY' 'MWA_ETH_USD' 'MWA_LTC_CNY'\n",
      " 'MWA_LTC_EUR' 'MWA_LTC_GBP' 'MWA_LTC_JPY' 'MWA_LTC_USD' 'MWA_XLM_CNY'\n",
      " 'MWA_XLM_EUR' 'MWA_XLM_USD' 'MWA_XRP_CNY' 'MWA_XRP_EUR' 'MWA_XRP_GBP'\n",
      " 'MWA_XRP_JPY' 'MWA_XRP_USD']\n"
     ]
    }
   ],
   "source": [
    "print(df.Code.unique())"
   ]
  },
  {
   "cell_type": "markdown",
   "id": "bc0039fc",
   "metadata": {},
   "source": [
    "SInce global weighted average (GWA) is an aggregation of market weighted average (MWA), we only need to keep GWA."
   ]
  },
  {
   "cell_type": "code",
   "execution_count": 14,
   "id": "4af66ddf",
   "metadata": {
    "scrolled": true
   },
   "outputs": [
    {
     "name": "stdout",
     "output_type": "stream",
     "text": [
      "Before: 31761\n",
      "After: 6309\n"
     ]
    }
   ],
   "source": [
    "print('Before:', len(df))\n",
    "gwa_codes = [code for code in df.Code.unique() if 'GWA_' in code]\n",
    "df = df[df.Code.isin(gwa_codes)]\n",
    "print('After:', len(df))"
   ]
  },
  {
   "cell_type": "markdown",
   "id": "759075f1",
   "metadata": {},
   "source": [
    "Pivoting the dataset:"
   ]
  },
  {
   "cell_type": "code",
   "execution_count": 15,
   "id": "bd876eb6",
   "metadata": {},
   "outputs": [
    {
     "data": {
      "text/html": [
       "<div>\n",
       "<style scoped>\n",
       "    .dataframe tbody tr th:only-of-type {\n",
       "        vertical-align: middle;\n",
       "    }\n",
       "\n",
       "    .dataframe tbody tr th {\n",
       "        vertical-align: top;\n",
       "    }\n",
       "\n",
       "    .dataframe thead th {\n",
       "        text-align: right;\n",
       "    }\n",
       "</style>\n",
       "<table border=\"1\" class=\"dataframe\">\n",
       "  <thead>\n",
       "    <tr style=\"text-align: right;\">\n",
       "      <th>Code</th>\n",
       "      <th>GWA_BTC</th>\n",
       "      <th>GWA_ETH</th>\n",
       "      <th>GWA_LTC</th>\n",
       "      <th>GWA_XLM</th>\n",
       "      <th>GWA_XRP</th>\n",
       "    </tr>\n",
       "    <tr>\n",
       "      <th>Date</th>\n",
       "      <th></th>\n",
       "      <th></th>\n",
       "      <th></th>\n",
       "      <th></th>\n",
       "      <th></th>\n",
       "    </tr>\n",
       "  </thead>\n",
       "  <tbody>\n",
       "    <tr>\n",
       "      <th>2018-01-19</th>\n",
       "      <td>11,826.36</td>\n",
       "      <td>1,068.45</td>\n",
       "      <td>195.00</td>\n",
       "      <td>0.51</td>\n",
       "      <td>1.82</td>\n",
       "    </tr>\n",
       "    <tr>\n",
       "      <th>2018-01-20</th>\n",
       "      <td>13,062.68</td>\n",
       "      <td>1,158.71</td>\n",
       "      <td>207.58</td>\n",
       "      <td>0.52</td>\n",
       "      <td>1.75</td>\n",
       "    </tr>\n",
       "    <tr>\n",
       "      <th>2018-01-21</th>\n",
       "      <td>12,326.23</td>\n",
       "      <td>1,108.90</td>\n",
       "      <td>197.36</td>\n",
       "      <td>0.48</td>\n",
       "      <td>1.55</td>\n",
       "    </tr>\n",
       "    <tr>\n",
       "      <th>2018-01-22</th>\n",
       "      <td>11,397.52</td>\n",
       "      <td>1,038.21</td>\n",
       "      <td>184.92</td>\n",
       "      <td>0.47</td>\n",
       "      <td>1.43</td>\n",
       "    </tr>\n",
       "    <tr>\n",
       "      <th>2018-01-23</th>\n",
       "      <td>10,921.00</td>\n",
       "      <td>992.05</td>\n",
       "      <td>176.95</td>\n",
       "      <td>0.47</td>\n",
       "      <td>1.42</td>\n",
       "    </tr>\n",
       "  </tbody>\n",
       "</table>\n",
       "</div>"
      ],
      "text/plain": [
       "Code         GWA_BTC  GWA_ETH  GWA_LTC  GWA_XLM  GWA_XRP\n",
       "Date                                                    \n",
       "2018-01-19 11,826.36 1,068.45   195.00     0.51     1.82\n",
       "2018-01-20 13,062.68 1,158.71   207.58     0.52     1.75\n",
       "2018-01-21 12,326.23 1,108.90   197.36     0.48     1.55\n",
       "2018-01-22 11,397.52 1,038.21   184.92     0.47     1.43\n",
       "2018-01-23 10,921.00   992.05   176.95     0.47     1.42"
      ]
     },
     "execution_count": 15,
     "metadata": {},
     "output_type": "execute_result"
    }
   ],
   "source": [
    "pivoted_df = df.pivot(index='Date', columns='Code', values='VWAP')\n",
    "pivoted_df.tail()"
   ]
  },
  {
   "cell_type": "markdown",
   "id": "74ee0ad6",
   "metadata": {},
   "source": [
    "Suppose we want to calculate the weekly returns for the past month:"
   ]
  },
  {
   "cell_type": "code",
   "execution_count": 16,
   "id": "3b2bf3b4",
   "metadata": {},
   "outputs": [
    {
     "data": {
      "text/html": [
       "<div>\n",
       "<style scoped>\n",
       "    .dataframe tbody tr th:only-of-type {\n",
       "        vertical-align: middle;\n",
       "    }\n",
       "\n",
       "    .dataframe tbody tr th {\n",
       "        vertical-align: top;\n",
       "    }\n",
       "\n",
       "    .dataframe thead th {\n",
       "        text-align: right;\n",
       "    }\n",
       "</style>\n",
       "<table border=\"1\" class=\"dataframe\">\n",
       "  <thead>\n",
       "    <tr style=\"text-align: right;\">\n",
       "      <th>Code</th>\n",
       "      <th>GWA_BTC</th>\n",
       "      <th>GWA_ETH</th>\n",
       "      <th>GWA_LTC</th>\n",
       "      <th>GWA_XLM</th>\n",
       "      <th>GWA_XRP</th>\n",
       "    </tr>\n",
       "    <tr>\n",
       "      <th>Date</th>\n",
       "      <th></th>\n",
       "      <th></th>\n",
       "      <th></th>\n",
       "      <th></th>\n",
       "      <th></th>\n",
       "    </tr>\n",
       "  </thead>\n",
       "  <tbody>\n",
       "    <tr>\n",
       "      <th>2018-01-19</th>\n",
       "      <td>-0.18</td>\n",
       "      <td>-0.17</td>\n",
       "      <td>-0.18</td>\n",
       "      <td>-0.21</td>\n",
       "      <td>-0.22</td>\n",
       "    </tr>\n",
       "    <tr>\n",
       "      <th>2018-01-20</th>\n",
       "      <td>-0.13</td>\n",
       "      <td>-0.19</td>\n",
       "      <td>-0.18</td>\n",
       "      <td>-0.23</td>\n",
       "      <td>-0.29</td>\n",
       "    </tr>\n",
       "    <tr>\n",
       "      <th>2018-01-21</th>\n",
       "      <td>-0.15</td>\n",
       "      <td>-0.20</td>\n",
       "      <td>-0.22</td>\n",
       "      <td>-0.22</td>\n",
       "      <td>-0.30</td>\n",
       "    </tr>\n",
       "    <tr>\n",
       "      <th>2018-01-22</th>\n",
       "      <td>-0.21</td>\n",
       "      <td>-0.24</td>\n",
       "      <td>-0.24</td>\n",
       "      <td>-0.25</td>\n",
       "      <td>-0.32</td>\n",
       "    </tr>\n",
       "    <tr>\n",
       "      <th>2018-01-23</th>\n",
       "      <td>-0.11</td>\n",
       "      <td>-0.12</td>\n",
       "      <td>-0.13</td>\n",
       "      <td>-0.02</td>\n",
       "      <td>-0.04</td>\n",
       "    </tr>\n",
       "  </tbody>\n",
       "</table>\n",
       "</div>"
      ],
      "text/plain": [
       "Code        GWA_BTC  GWA_ETH  GWA_LTC  GWA_XLM  GWA_XRP\n",
       "Date                                                   \n",
       "2018-01-19    -0.18    -0.17    -0.18    -0.21    -0.22\n",
       "2018-01-20    -0.13    -0.19    -0.18    -0.23    -0.29\n",
       "2018-01-21    -0.15    -0.20    -0.22    -0.22    -0.30\n",
       "2018-01-22    -0.21    -0.24    -0.24    -0.25    -0.32\n",
       "2018-01-23    -0.11    -0.12    -0.13    -0.02    -0.04"
      ]
     },
     "execution_count": 16,
     "metadata": {},
     "output_type": "execute_result"
    }
   ],
   "source": [
    "delta_7 = pivoted_df/pivoted_df.shift(7)-1.0\n",
    "delta_7.tail()"
   ]
  },
  {
   "cell_type": "code",
   "execution_count": 17,
   "id": "954fcd2d",
   "metadata": {},
   "outputs": [],
   "source": [
    "delta_dict = {}\n",
    "for offset in [7, 14, 21, 28]:\n",
    "    delta_dict['delta_{}'.format(offset)] = pivoted_df/pivoted_df.shift(offset)"
   ]
  },
  {
   "cell_type": "markdown",
   "id": "6dc403fa",
   "metadata": {},
   "source": [
    "Melting the delta dataframes:"
   ]
  },
  {
   "cell_type": "code",
   "execution_count": 21,
   "id": "ecdf9f56",
   "metadata": {
    "scrolled": true
   },
   "outputs": [],
   "source": [
    "melted_dfs = []\n",
    "for key, delta_df in delta_dict.items():\n",
    "    melted_dfs.append( delta_df.reset_index().melt(id_vars=['Date'], value_name=key))"
   ]
  },
  {
   "cell_type": "markdown",
   "id": "5e9085ea",
   "metadata": {},
   "source": [
    "Creating a new melted dataframe with forward looking 7 day returns:"
   ]
  },
  {
   "cell_type": "code",
   "execution_count": 22,
   "id": "9304949a",
   "metadata": {},
   "outputs": [],
   "source": [
    "return_df = pivoted_df.shift(-7)/pivoted_df - 1.0\n",
    "melted_dfs.append(return_df.reset_index().melt(id_vars=['Date'], value_name='return_7'))"
   ]
  },
  {
   "cell_type": "markdown",
   "id": "37f2295a",
   "metadata": {},
   "source": [
    "Now we want to merge all the melted dataframes into one base table."
   ]
  },
  {
   "cell_type": "code",
   "execution_count": 23,
   "id": "9dfa54bd",
   "metadata": {},
   "outputs": [],
   "source": [
    "from functools import reduce"
   ]
  },
  {
   "cell_type": "code",
   "execution_count": 24,
   "id": "d476c97a",
   "metadata": {},
   "outputs": [],
   "source": [
    "base_df = df[['Date', 'Code', 'Volume', 'VWAP']]\n",
    "feature_dfs = [base_df] + melted_dfs"
   ]
  },
  {
   "cell_type": "code",
   "execution_count": 26,
   "id": "c0b5560e",
   "metadata": {},
   "outputs": [
    {
     "data": {
      "text/html": [
       "<div>\n",
       "<style scoped>\n",
       "    .dataframe tbody tr th:only-of-type {\n",
       "        vertical-align: middle;\n",
       "    }\n",
       "\n",
       "    .dataframe tbody tr th {\n",
       "        vertical-align: top;\n",
       "    }\n",
       "\n",
       "    .dataframe thead th {\n",
       "        text-align: right;\n",
       "    }\n",
       "</style>\n",
       "<table border=\"1\" class=\"dataframe\">\n",
       "  <thead>\n",
       "    <tr style=\"text-align: right;\">\n",
       "      <th></th>\n",
       "      <th>Date</th>\n",
       "      <th>Code</th>\n",
       "      <th>Volume</th>\n",
       "      <th>VWAP</th>\n",
       "      <th>delta_7</th>\n",
       "      <th>delta_14</th>\n",
       "      <th>delta_21</th>\n",
       "      <th>delta_28</th>\n",
       "      <th>return_7</th>\n",
       "    </tr>\n",
       "  </thead>\n",
       "  <tbody>\n",
       "    <tr>\n",
       "      <th>6299</th>\n",
       "      <td>2018-01-14</td>\n",
       "      <td>GWA_XRP</td>\n",
       "      <td>912,107,674.18</td>\n",
       "      <td>2.20</td>\n",
       "      <td>0.69</td>\n",
       "      <td>1.02</td>\n",
       "      <td>2.06</td>\n",
       "      <td>2.97</td>\n",
       "      <td>-0.30</td>\n",
       "    </tr>\n",
       "    <tr>\n",
       "      <th>6300</th>\n",
       "      <td>2018-01-15</td>\n",
       "      <td>GWA_XRP</td>\n",
       "      <td>823,491,754.55</td>\n",
       "      <td>2.11</td>\n",
       "      <td>0.71</td>\n",
       "      <td>0.96</td>\n",
       "      <td>1.92</td>\n",
       "      <td>2.84</td>\n",
       "      <td>-0.32</td>\n",
       "    </tr>\n",
       "    <tr>\n",
       "      <th>6301</th>\n",
       "      <td>2018-01-16</td>\n",
       "      <td>GWA_XRP</td>\n",
       "      <td>3,872,977,355.95</td>\n",
       "      <td>1.48</td>\n",
       "      <td>0.54</td>\n",
       "      <td>0.64</td>\n",
       "      <td>1.35</td>\n",
       "      <td>1.85</td>\n",
       "      <td>-0.04</td>\n",
       "    </tr>\n",
       "    <tr>\n",
       "      <th>6302</th>\n",
       "      <td>2018-01-17</td>\n",
       "      <td>GWA_XRP</td>\n",
       "      <td>5,111,390,628.85</td>\n",
       "      <td>1.20</td>\n",
       "      <td>0.53</td>\n",
       "      <td>0.43</td>\n",
       "      <td>0.94</td>\n",
       "      <td>1.58</td>\n",
       "      <td>NaN</td>\n",
       "    </tr>\n",
       "    <tr>\n",
       "      <th>6303</th>\n",
       "      <td>2018-01-18</td>\n",
       "      <td>GWA_XRP</td>\n",
       "      <td>5,156,172,462.44</td>\n",
       "      <td>1.68</td>\n",
       "      <td>0.78</td>\n",
       "      <td>0.49</td>\n",
       "      <td>1.23</td>\n",
       "      <td>1.59</td>\n",
       "      <td>NaN</td>\n",
       "    </tr>\n",
       "    <tr>\n",
       "      <th>6304</th>\n",
       "      <td>2018-01-19</td>\n",
       "      <td>GWA_XRP</td>\n",
       "      <td>2,126,239,927.56</td>\n",
       "      <td>1.82</td>\n",
       "      <td>0.78</td>\n",
       "      <td>0.59</td>\n",
       "      <td>1.02</td>\n",
       "      <td>1.65</td>\n",
       "      <td>NaN</td>\n",
       "    </tr>\n",
       "    <tr>\n",
       "      <th>6305</th>\n",
       "      <td>2018-01-20</td>\n",
       "      <td>GWA_XRP</td>\n",
       "      <td>1,346,913,296.52</td>\n",
       "      <td>1.75</td>\n",
       "      <td>0.71</td>\n",
       "      <td>0.58</td>\n",
       "      <td>0.74</td>\n",
       "      <td>1.53</td>\n",
       "      <td>NaN</td>\n",
       "    </tr>\n",
       "    <tr>\n",
       "      <th>6306</th>\n",
       "      <td>2018-01-21</td>\n",
       "      <td>GWA_XRP</td>\n",
       "      <td>1,886,060,450.81</td>\n",
       "      <td>1.55</td>\n",
       "      <td>0.70</td>\n",
       "      <td>0.49</td>\n",
       "      <td>0.72</td>\n",
       "      <td>1.45</td>\n",
       "      <td>NaN</td>\n",
       "    </tr>\n",
       "    <tr>\n",
       "      <th>6307</th>\n",
       "      <td>2018-01-22</td>\n",
       "      <td>GWA_XRP</td>\n",
       "      <td>1,784,992,299.63</td>\n",
       "      <td>1.43</td>\n",
       "      <td>0.68</td>\n",
       "      <td>0.48</td>\n",
       "      <td>0.65</td>\n",
       "      <td>1.30</td>\n",
       "      <td>NaN</td>\n",
       "    </tr>\n",
       "    <tr>\n",
       "      <th>6308</th>\n",
       "      <td>2018-01-23</td>\n",
       "      <td>GWA_XRP</td>\n",
       "      <td>2,118,335,564.32</td>\n",
       "      <td>1.42</td>\n",
       "      <td>0.96</td>\n",
       "      <td>0.52</td>\n",
       "      <td>0.61</td>\n",
       "      <td>1.29</td>\n",
       "      <td>NaN</td>\n",
       "    </tr>\n",
       "  </tbody>\n",
       "</table>\n",
       "</div>"
      ],
      "text/plain": [
       "            Date     Code           Volume  VWAP  delta_7  delta_14  delta_21  \\\n",
       "6299  2018-01-14  GWA_XRP   912,107,674.18  2.20     0.69      1.02      2.06   \n",
       "6300  2018-01-15  GWA_XRP   823,491,754.55  2.11     0.71      0.96      1.92   \n",
       "6301  2018-01-16  GWA_XRP 3,872,977,355.95  1.48     0.54      0.64      1.35   \n",
       "6302  2018-01-17  GWA_XRP 5,111,390,628.85  1.20     0.53      0.43      0.94   \n",
       "6303  2018-01-18  GWA_XRP 5,156,172,462.44  1.68     0.78      0.49      1.23   \n",
       "6304  2018-01-19  GWA_XRP 2,126,239,927.56  1.82     0.78      0.59      1.02   \n",
       "6305  2018-01-20  GWA_XRP 1,346,913,296.52  1.75     0.71      0.58      0.74   \n",
       "6306  2018-01-21  GWA_XRP 1,886,060,450.81  1.55     0.70      0.49      0.72   \n",
       "6307  2018-01-22  GWA_XRP 1,784,992,299.63  1.43     0.68      0.48      0.65   \n",
       "6308  2018-01-23  GWA_XRP 2,118,335,564.32  1.42     0.96      0.52      0.61   \n",
       "\n",
       "      delta_28  return_7  \n",
       "6299      2.97     -0.30  \n",
       "6300      2.84     -0.32  \n",
       "6301      1.85     -0.04  \n",
       "6302      1.58       NaN  \n",
       "6303      1.59       NaN  \n",
       "6304      1.65       NaN  \n",
       "6305      1.53       NaN  \n",
       "6306      1.45       NaN  \n",
       "6307      1.30       NaN  \n",
       "6308      1.29       NaN  "
      ]
     },
     "execution_count": 26,
     "metadata": {},
     "output_type": "execute_result"
    }
   ],
   "source": [
    "abt = reduce(lambda left,right: pd.merge(left,right,on=['Date', 'Code']), feature_dfs)\n",
    "abt.tail(10)"
   ]
  }
 ],
 "metadata": {
  "kernelspec": {
   "display_name": "Python 3",
   "language": "python",
   "name": "python3"
  },
  "language_info": {
   "codemirror_mode": {
    "name": "ipython",
    "version": 3
   },
   "file_extension": ".py",
   "mimetype": "text/x-python",
   "name": "python",
   "nbconvert_exporter": "python",
   "pygments_lexer": "ipython3",
   "version": "3.8.8"
  }
 },
 "nbformat": 4,
 "nbformat_minor": 5
}
